{
  "nbformat": 4,
  "nbformat_minor": 0,
  "metadata": {
    "colab": {
      "name": "吳幸芳-week4-隨堂作業.ipynb",
      "provenance": [],
      "authorship_tag": "ABX9TyPSEPZo5AxhzyABchc91z3K",
      "include_colab_link": true
    },
    "kernelspec": {
      "name": "python3",
      "display_name": "Python 3"
    }
  },
  "cells": [
    {
      "cell_type": "markdown",
      "metadata": {
        "id": "view-in-github",
        "colab_type": "text"
      },
      "source": [
        "<a href=\"https://colab.research.google.com/github/A109010136/Computational-Thinking-and-Program-Design/blob/main/%E5%90%B3%E5%B9%B8%E8%8A%B3_week4_%E9%9A%A8%E5%A0%82%E4%BD%9C%E6%A5%AD.ipynb\" target=\"_parent\"><img src=\"https://colab.research.google.com/assets/colab-badge.svg\" alt=\"Open In Colab\"/></a>"
      ]
    },
    {
      "cell_type": "markdown",
      "metadata": {
        "id": "J5m8C1_1crma"
      },
      "source": [
        "#隨堂作業"
      ]
    },
    {
      "cell_type": "markdown",
      "metadata": {
        "id": "0s7plRsXeN5S"
      },
      "source": [
        "*電腦可以改善我們的生活、工作的方式，還可以解決很多問題:隨著傳播科技進步，改變了人類的生活模式，使人的生活越來越便利\r\n",
        "\r\n",
        "*電腦的組成:分成輸入(鍵盤、滑鼠)、處理、記憶、輸出(顯示器、印表機、喇叭...)四個單元\r\n",
        "\r\n",
        "*計算用硬體:定義:負責計算的硬體文件\r\n",
        "\r\n",
        "*電腦軟體\r\n",
        "\r\n",
        "*為何要學程式語言?\r\n",
        "1.電腦只看得懂01\r\n",
        "2.可以讓不同語言使用者溝通(有共同媒介)\r\n",
        "3.程式設計就是把你希望電腦做的事情,用程式語言寫出來\r\n",
        "\r\n",
        "*甚麼是運算思維?\r\n",
        "運算思維是一種思考過程\r\n",
        "「運算思維是一個思考的程序。它的目的是闡明問題,並呈現其解決方案,讓「運算器」(機器與人)能夠有效率地執行。」\r\n",
        "\r\n",
        "*運算思維的四個基石\r\n",
        "(很重要)\r\n",
        "1.問題拆解\r\n",
        "2.模式辨識\r\n",
        "3.抽象化\r\n",
        "4.演算法(演算法是運算思維的具體展現,是解決問題的具體步驟與流程。)\r\n",
        "\r\n",
        "*用電腦解決問題的四個階段\r\n",
        "(超重要，把圖記下來)\r\n",
        "1.運算思維(一定要先有這個!!)\r\n",
        "2.程式設計\r\n",
        "3.撰寫程式\r\n",
        "4.測試與除錯"
      ]
    },
    {
      "cell_type": "markdown",
      "metadata": {
        "id": "pOFCSzSTczac"
      },
      "source": [
        "#課後練習"
      ]
    },
    {
      "cell_type": "markdown",
      "metadata": {
        "id": "OlVBOz-5eYSz"
      },
      "source": [
        "**從一則新聞報導，提出你對新聞系（OO系）學生為什麼要學「運算思維與程式設計」的見解。（告訴我新聞連結，以及你的觀點即可。）**"
      ]
    },
    {
      "cell_type": "markdown",
      "metadata": {
        "id": "dn9ZAyuOgmCI"
      },
      "source": [
        "[連結文字](https://www.storm.mg/article/3117067?page=1&fbclid=IwAR0V7REgbth9tFA9sFbxmmTDb1SkbYLVUP9yfv8f2r3U33lbqCXgCJjd6bo)"
      ]
    },
    {
      "cell_type": "markdown",
      "metadata": {
        "id": "jzWwUfKdfOeO"
      },
      "source": [
        "文中提到:「周以真博士在演講中說到，運算思維的核心在於解決問題，而且她特別強調，關鍵是學生要能「了解自己」，明白自己的優點和興趣，才能對自己保持信心。而「運算思維實驗教育機構」的辦理，是根據「教育部運算思維推動計畫」，希望透過電腦科學相關知能的學習，培養邏輯思考、系統化思考等運算思維。該機構的理念宗旨，並非培育電腦工程師，而是期許學生能擁有解決問題、自我探索與學習的能力，順利找到未來的人生方向。」，因此我認為，學習「運算思維與程式設計」與自己是甚麼科系無關，換言之，他對每個科系都很重要。"
      ]
    }
  ]
}